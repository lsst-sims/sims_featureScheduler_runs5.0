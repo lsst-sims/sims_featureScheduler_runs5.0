{
 "cells": [
  {
   "cell_type": "code",
   "execution_count": 1,
   "id": "e1634cb4-ff50-4e64-8c7c-fa534f2a4a10",
   "metadata": {},
   "outputs": [],
   "source": [
    "import numpy as np\n",
    "from rubin_scheduler.site_models import (\n",
    "    Almanac,\n",
    "    CloudData)\n",
    "from astropy.time import Time\n",
    "from rubin_scheduler.utils import (\n",
    "    DEFAULT_NSIDE,\n",
    "    SURVEY_START_MJD,)\n",
    "\n",
    "from astropy.coordinates import AltAz, EarthLocation, get_body, get_sun\n",
    "\n",
    "from rubin_scheduler.utils import Site\n",
    "\n",
    "import matplotlib.pylab as plt\n",
    "%matplotlib inline"
   ]
  },
  {
   "cell_type": "code",
   "execution_count": 2,
   "id": "1d5c36a5-b784-4cb1-be2d-000fbc57af9d",
   "metadata": {},
   "outputs": [],
   "source": [
    "cloud_data = CloudData(Time(SURVEY_START_MJD, format=\"mjd\"))"
   ]
  },
  {
   "cell_type": "code",
   "execution_count": 3,
   "id": "f73f9833-14c1-42ad-91a5-20445693af9d",
   "metadata": {},
   "outputs": [
    {
     "data": {
      "text/plain": [
       "<rubin_scheduler.site_models.cloud_data.CloudData at 0x300571ee0>"
      ]
     },
     "execution_count": 3,
     "metadata": {},
     "output_type": "execute_result"
    }
   ],
   "source": [
    "cloud_data"
   ]
  },
  {
   "cell_type": "code",
   "execution_count": 4,
   "id": "be428519-f4ed-4479-9e51-8d08375c1efd",
   "metadata": {},
   "outputs": [],
   "source": [
    "almanac = Almanac(mjd_start=SURVEY_START_MJD)"
   ]
  },
  {
   "cell_type": "code",
   "execution_count": 5,
   "id": "b90f4489-692f-428c-a56b-621f5b2b3527",
   "metadata": {},
   "outputs": [
    {
     "data": {
      "text/plain": [
       "<rubin_scheduler.site_models.almanac.Almanac at 0x3005d2e10>"
      ]
     },
     "execution_count": 5,
     "metadata": {},
     "output_type": "execute_result"
    }
   ],
   "source": [
    "almanac"
   ]
  },
  {
   "cell_type": "code",
   "execution_count": 6,
   "id": "8b9f2fb9-b520-4289-811f-474dc81e8fd6",
   "metadata": {},
   "outputs": [],
   "source": [
    "# Compute every 30 min\n",
    "mjds = np.arange(SURVEY_START_MJD, SURVEY_START_MJD+3652, 1/24/2)"
   ]
  },
  {
   "cell_type": "code",
   "execution_count": 7,
   "id": "fbeb85b5-4697-4e0b-a570-fb05359d62b1",
   "metadata": {},
   "outputs": [],
   "source": [
    "times = Time(mjds, format=\"mjd\")"
   ]
  },
  {
   "cell_type": "code",
   "execution_count": 8,
   "id": "54c75c84-f0d0-4760-8724-838cc13a739b",
   "metadata": {},
   "outputs": [
    {
     "name": "stderr",
     "output_type": "stream",
     "text": [
      "/Users/yoachim/anaconda3/envs/rubin12/lib/python3.12/site-packages/erfa/core.py:133: ErfaWarning: ERFA function \"utctai\" yielded 119832 of \"dubious year (Note 3)\"\n",
      "  warn(f'ERFA function \"{func_name}\" yielded {wmsg}', ErfaWarning)\n",
      "/Users/yoachim/anaconda3/envs/rubin12/lib/python3.12/site-packages/erfa/core.py:133: ErfaWarning: ERFA function \"taiutc\" yielded 119832 of \"dubious year (Note 4)\"\n",
      "  warn(f'ERFA function \"{func_name}\" yielded {wmsg}', ErfaWarning)\n",
      "WARNING: Tried to get polar motions for times after IERS data is valid. Defaulting to polar motion from the 50-yr mean for those. This may affect precision at the arcsec level. Please check your astropy.utils.iers.conf.iers_auto_url and point it to a newer version if necessary. [astropy.coordinates.builtin_frames.utils]\n",
      "/Users/yoachim/anaconda3/envs/rubin12/lib/python3.12/site-packages/erfa/core.py:133: ErfaWarning: ERFA function \"utcut1\" yielded 119832 of \"dubious year (Note 3)\"\n",
      "  warn(f'ERFA function \"{func_name}\" yielded {wmsg}', ErfaWarning)\n"
     ]
    }
   ],
   "source": [
    "# When is the sun up?\n",
    "site = Site(\"LSST\")\n",
    "location = EarthLocation(lat=site.latitude, lon=site.longitude, height=site.height)\n",
    "\n",
    "sun = get_sun(times)\n",
    "aa = AltAz(location=location, obstime=times)\n",
    "sun_aa = sun.transform_to(aa)"
   ]
  },
  {
   "cell_type": "code",
   "execution_count": 9,
   "id": "9f4e0ce7-bde0-4274-9fd4-2f229313fc08",
   "metadata": {},
   "outputs": [],
   "source": [
    "sun_down = np.where(sun_aa.alt.deg < -12)[0]"
   ]
  },
  {
   "cell_type": "code",
   "execution_count": 10,
   "id": "4ca4487b-b1fa-4ed6-a8fd-bed3ca3c857c",
   "metadata": {},
   "outputs": [],
   "source": [
    "mjds_dark = mjds[sun_down]"
   ]
  },
  {
   "cell_type": "code",
   "execution_count": 11,
   "id": "f304478b-fb0f-4618-bd69-fa5a00bc1d20",
   "metadata": {},
   "outputs": [
    {
     "name": "stderr",
     "output_type": "stream",
     "text": [
      "/Users/yoachim/anaconda3/envs/rubin12/lib/python3.12/site-packages/erfa/core.py:133: ErfaWarning: ERFA function \"utctai\" yielded 50626 of \"dubious year (Note 3)\"\n",
      "  warn(f'ERFA function \"{func_name}\" yielded {wmsg}', ErfaWarning)\n"
     ]
    }
   ],
   "source": [
    "cloud_levels = cloud_data(times[sun_down])"
   ]
  },
  {
   "cell_type": "code",
   "execution_count": 12,
   "id": "9d7a13d2-de84-4820-95f0-134be60da440",
   "metadata": {},
   "outputs": [
    {
     "data": {
      "text/plain": [
       "(array([41337.,  6424.,  4859.,  3283.,     0.,  2840.,  2262.,  2498.,\n",
       "         2778.,  7440.]),\n",
       " array([0. , 0.1, 0.2, 0.3, 0.4, 0.5, 0.6, 0.7, 0.8, 0.9, 1. ]),\n",
       " <BarContainer object of 10 artists>)"
      ]
     },
     "execution_count": 12,
     "metadata": {},
     "output_type": "execute_result"
    },
    {
     "data": {
      "image/png": "[encoded data removed]",
      "text/plain": [
       "<Figure size 640x480 with 1 Axes>"
      ]
     },
     "metadata": {},
     "output_type": "display_data"
    }
   ],
   "source": [
    "plt.hist(cloud_levels)"
   ]
  },
  {
   "cell_type": "code",
   "execution_count": 13,
   "id": "ad7e4ba1-9289-4521-a4fc-b00480f1f944",
   "metadata": {},
   "outputs": [
    {
     "data": {
      "text/plain": [
       "21101"
      ]
     },
     "execution_count": 13,
     "metadata": {},
     "output_type": "execute_result"
    }
   ],
   "source": [
    "np.where(cloud_levels >= 0.3)[0].size"
   ]
  },
  {
   "cell_type": "code",
   "execution_count": 14,
   "id": "489ae893-cb40-482a-82a2-5318b20e2f67",
   "metadata": {},
   "outputs": [
    {
     "data": {
      "text/plain": [
       "32384"
      ]
     },
     "execution_count": 14,
     "metadata": {},
     "output_type": "execute_result"
    }
   ],
   "source": [
    "np.where(cloud_levels >= 0.1)[0].size"
   ]
  },
  {
   "cell_type": "code",
   "execution_count": 15,
   "id": "4328d11f-8540-49d9-bf47-108bd65f2c99",
   "metadata": {},
   "outputs": [
    {
     "data": {
      "text/plain": [
       "73721"
      ]
     },
     "execution_count": 15,
     "metadata": {},
     "output_type": "execute_result"
    }
   ],
   "source": [
    "cloud_levels.size"
   ]
  },
  {
   "cell_type": "code",
   "execution_count": 16,
   "id": "f292e8c4-e085-47a6-b95f-f8e5a3ceaa3e",
   "metadata": {},
   "outputs": [
    {
     "name": "stdout",
     "output_type": "stream",
     "text": [
      "with 0.3 (baseline) cutoff, 28.622780% of times closed\n"
     ]
    }
   ],
   "source": [
    "print(\"with 0.3 (baseline) cutoff, %f%% of times closed\" % (np.where(cloud_levels >= 0.3)[0].size/cloud_levels.size*100))"
   ]
  },
  {
   "cell_type": "code",
   "execution_count": 17,
   "id": "8dcce388-9d90-4dfb-9835-6b97bd41e46f",
   "metadata": {},
   "outputs": [
    {
     "name": "stdout",
     "output_type": "stream",
     "text": [
      "with 0.1 cutoff, 43.927782% of times closed\n"
     ]
    }
   ],
   "source": [
    "print(\"with 0.1 cutoff, %f%% of times closed\" % (np.where(cloud_levels >= 0.1)[0].size/cloud_levels.size*100))"
   ]
  },
  {
   "cell_type": "code",
   "execution_count": null,
   "id": "8e7703b4-cf8a-4bfb-8c74-28838aab6f68",
   "metadata": {},
   "outputs": [],
   "source": []
  },
  {
   "cell_type": "code",
   "execution_count": null,
   "id": "00e0df4c-7929-4e90-9d2a-12573786f02b",
   "metadata": {},
   "outputs": [],
   "source": []
  }
 ],
 "metadata": {
  "kernelspec": {
   "display_name": "Python 3 (ipykernel)",
   "language": "python",
   "name": "python3"
  },
  "language_info": {
   "codemirror_mode": {
    "name": "ipython",
    "version": 3
   },
   "file_extension": ".py",
   "mimetype": "text/x-python",
   "name": "python",
   "nbconvert_exporter": "python",
   "pygments_lexer": "ipython3",
   "version": "3.12.10"
  }
 },
 "nbformat": 4,
 "nbformat_minor": 5
}
