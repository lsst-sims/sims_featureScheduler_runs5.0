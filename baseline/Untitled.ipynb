{
 "cells": [
  {
   "cell_type": "code",
   "execution_count": 8,
   "id": "fbb15fe5-c642-41d7-9e35-9dae128066f1",
   "metadata": {},
   "outputs": [],
   "source": [
    "import sqlite3\n",
    "import pandas as pd\n",
    "import numpy as np"
   ]
  },
  {
   "cell_type": "code",
   "execution_count": 3,
   "id": "3f234758-9df0-4d53-a691-d9a3fdda106f",
   "metadata": {},
   "outputs": [],
   "source": [
    "con =sqlite3.connect(\"baseline_v5.0.0_0yrs.db\")\n",
    "df = pd.read_sql(\"select * from observations;\", con)\n",
    "con.close()"
   ]
  },
  {
   "cell_type": "code",
   "execution_count": 6,
   "id": "66db7baf-a4f2-4177-a3a4-b38e575ed579",
   "metadata": {},
   "outputs": [
    {
     "data": {
      "text/plain": [
       "array(['bulgy', 'bulgy', 'bulgy', ..., 'lowdust', 'lowdust', 'lowdust'],\n",
       "      shape=(4458,), dtype=object)"
      ]
     },
     "execution_count": 6,
     "metadata": {},
     "output_type": "execute_result"
    }
   ],
   "source": [
    "df[\"target_name\"].values"
   ]
  },
  {
   "cell_type": "code",
   "execution_count": 9,
   "id": "3c545f41-aacb-412c-b058-9e96d8feabcb",
   "metadata": {},
   "outputs": [
    {
     "data": {
      "text/plain": [
       "(array([ 412,  413,  414,  415,  416,  417,  418,  419,  420,  421,  422,\n",
       "         423,  424,  425,  426,  427,  428,  429,  430,  431,  432,  433,\n",
       "         434,  435,  436,  437,  438,  439,  440,  441,  442,  443,  444,\n",
       "         445,  446,  447,  448,  449,  450,  451,  452,  453,  454,  455,\n",
       "         456,  457,  458,  459,  460,  461,  462,  463, 2949, 2950, 2951,\n",
       "        2952, 2953, 2954, 2955, 2956, 2957, 2958, 2959, 2960, 2961, 2962,\n",
       "        2963, 2964, 2965, 2966, 2967, 2968, 2981, 2982, 2983, 2984, 2985,\n",
       "        2986, 2987, 2988, 2989, 2990, 2991, 2992, 2993, 2994, 2995, 2996,\n",
       "        2997, 2998, 2999, 3000, 3001, 3002, 3003, 3004, 3005, 3006, 3007,\n",
       "        3096, 3097, 3098, 3099]),)"
      ]
     },
     "execution_count": 9,
     "metadata": {},
     "output_type": "execute_result"
    }
   ],
   "source": [
    "np.where(df[\"target_name\"].values == '')"
   ]
  },
  {
   "cell_type": "code",
   "execution_count": 12,
   "id": "dd8fda53-c770-4195-8baf-e7fcf31391ed",
   "metadata": {},
   "outputs": [
    {
     "data": {
      "text/plain": [
       "'long, 90'"
      ]
     },
     "execution_count": 12,
     "metadata": {},
     "output_type": "execute_result"
    }
   ],
   "source": [
    "df[\"scheduler_note\"].values[3007]"
   ]
  },
  {
   "cell_type": "code",
   "execution_count": null,
   "id": "18157777-c7a2-441d-af4b-c51b69de6255",
   "metadata": {},
   "outputs": [],
   "source": []
  }
 ],
 "metadata": {
  "kernelspec": {
   "display_name": "Python 3 (ipykernel)",
   "language": "python",
   "name": "python3"
  },
  "language_info": {
   "codemirror_mode": {
    "name": "ipython",
    "version": 3
   },
   "file_extension": ".py",
   "mimetype": "text/x-python",
   "name": "python",
   "nbconvert_exporter": "python",
   "pygments_lexer": "ipython3",
   "version": "3.12.10"
  }
 },
 "nbformat": 4,
 "nbformat_minor": 5
}
