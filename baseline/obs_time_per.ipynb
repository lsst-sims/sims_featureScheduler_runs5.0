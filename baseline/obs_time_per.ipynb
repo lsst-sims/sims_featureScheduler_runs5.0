{
 "cells": [
  {
   "cell_type": "code",
   "execution_count": 1,
   "id": "8ae6fb59-b456-4aa9-be2b-9b12337bfb18",
   "metadata": {},
   "outputs": [],
   "source": [
    "import numpy as np\n",
    "import sqlite3\n",
    "import pandas as pd\n"
   ]
  },
  {
   "cell_type": "code",
   "execution_count": 3,
   "id": "738d71b2-acd6-4ccc-9dba-de4f004c1b20",
   "metadata": {},
   "outputs": [],
   "source": [
    "con = sqlite3.connect(\"baseline_v5.0.0_10yrs.db\")\n",
    "df = pd.read_sql(\"select * from observations;\", con)\n",
    "con.close()"
   ]
  },
  {
   "cell_type": "code",
   "execution_count": 4,
   "id": "9a2587e9-f3e9-4731-ae70-caf12972f6b3",
   "metadata": {},
   "outputs": [],
   "source": [
    "tot_time = np.sum(df[\"visitExposureTime\"])"
   ]
  },
  {
   "cell_type": "code",
   "execution_count": 12,
   "id": "e4a04165-6a28-43c0-aa83-cd1a3c84974b",
   "metadata": {},
   "outputs": [
    {
     "data": {
      "text/plain": [
       "np.float64(0.0372897416121914)"
      ]
     },
     "execution_count": 12,
     "metadata": {},
     "output_type": "execute_result"
    }
   ],
   "source": [
    "indx = np.where([\"ToO\" in note for note in df[\"scheduler_note\"]])\n",
    "np.sum(df[\"visitExposureTime\"].values[indx])/tot_time"
   ]
  },
  {
   "cell_type": "code",
   "execution_count": 13,
   "id": "115f0301-da7d-452e-b1f2-3118354579c8",
   "metadata": {},
   "outputs": [
    {
     "data": {
      "text/plain": [
       "np.float64(0.06109933964945293)"
      ]
     },
     "execution_count": 13,
     "metadata": {},
     "output_type": "execute_result"
    }
   ],
   "source": [
    "indx = np.where([\"DD\" in note for note in df[\"scheduler_note\"]])\n",
    "np.sum(df[\"visitExposureTime\"].values[indx])/tot_time"
   ]
  },
  {
   "cell_type": "code",
   "execution_count": 15,
   "id": "2caed3c2-43ae-4fd9-813e-4bd7551df101",
   "metadata": {},
   "outputs": [
    {
     "data": {
      "text/plain": [
       "np.float64(0.04055788624266843)"
      ]
     },
     "execution_count": 15,
     "metadata": {},
     "output_type": "execute_result"
    }
   ],
   "source": [
    "indx = np.where([\"long\" in note for note in df[\"scheduler_note\"]])\n",
    "np.sum(df[\"visitExposureTime\"].values[indx])/tot_time"
   ]
  },
  {
   "cell_type": "code",
   "execution_count": 16,
   "id": "853a962f-cd43-4e9d-a326-6793e1732b25",
   "metadata": {},
   "outputs": [
    {
     "data": {
      "text/plain": [
       "np.float64(0.6489536314251756)"
      ]
     },
     "execution_count": 16,
     "metadata": {},
     "output_type": "execute_result"
    }
   ],
   "source": [
    "indx = np.where([\"33\" in note for note in df[\"scheduler_note\"]])\n",
    "np.sum(df[\"visitExposureTime\"].values[indx])/tot_time"
   ]
  },
  {
   "cell_type": "code",
   "execution_count": 17,
   "id": "152451e0-41d3-4079-ac10-44f733c765d5",
   "metadata": {},
   "outputs": [
    {
     "data": {
      "text/plain": [
       "np.float64(0.15003074698466096)"
      ]
     },
     "execution_count": 17,
     "metadata": {},
     "output_type": "execute_result"
    }
   ],
   "source": [
    "indx = np.where([\"15\" in note for note in df[\"scheduler_note\"]])\n",
    "np.sum(df[\"visitExposureTime\"].values[indx])/tot_time"
   ]
  },
  {
   "cell_type": "code",
   "execution_count": 18,
   "id": "86a54d95-b49a-427d-bef5-597d561e4eda",
   "metadata": {},
   "outputs": [
    {
     "data": {
      "text/plain": [
       "np.float64(0.013664174190222547)"
      ]
     },
     "execution_count": 18,
     "metadata": {},
     "output_type": "execute_result"
    }
   ],
   "source": [
    "indx = np.where([\"twi\" in note for note in df[\"scheduler_note\"]])\n",
    "np.sum(df[\"visitExposureTime\"].values[indx])/tot_time"
   ]
  },
  {
   "cell_type": "code",
   "execution_count": 19,
   "id": "63cbb89d-8bf5-456e-ae2c-c5711368357d",
   "metadata": {},
   "outputs": [
    {
     "data": {
      "text/plain": [
       "np.float64(0.06222653423921054)"
      ]
     },
     "execution_count": 19,
     "metadata": {},
     "output_type": "execute_result"
    }
   ],
   "source": [
    "indx = np.where([\"greed\" in note for note in df[\"scheduler_note\"]])\n",
    "np.sum(df[\"visitExposureTime\"].values[indx])/tot_time"
   ]
  },
  {
   "cell_type": "code",
   "execution_count": null,
   "id": "cb477874-6a8a-4d39-805f-e868ee287826",
   "metadata": {},
   "outputs": [],
   "source": []
  }
 ],
 "metadata": {
  "kernelspec": {
   "display_name": "Python 3 (ipykernel)",
   "language": "python",
   "name": "python3"
  },
  "language_info": {
   "codemirror_mode": {
    "name": "ipython",
    "version": 3
   },
   "file_extension": ".py",
   "mimetype": "text/x-python",
   "name": "python",
   "nbconvert_exporter": "python",
   "pygments_lexer": "ipython3",
   "version": "3.12.10"
  }
 },
 "nbformat": 4,
 "nbformat_minor": 5
}
