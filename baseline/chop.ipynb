{
 "cells": [
  {
   "cell_type": "code",
   "execution_count": 1,
   "id": "798273ef-3fa5-423d-bd6f-95529ee3b39b",
   "metadata": {},
   "outputs": [],
   "source": [
    "import pandas as pd\n",
    "import sqlite3"
   ]
  },
  {
   "cell_type": "code",
   "execution_count": 2,
   "id": "25a933a7-8c5f-44e6-b0d8-f96595aa9976",
   "metadata": {},
   "outputs": [],
   "source": [
    "con =sqlite3.connect(\"baseline_v5.0.0_10yrs.db\")\n",
    "df = pd.read_sql(\"select * from observations where night <= 365;\", con)\n",
    "con.close()"
   ]
  },
  {
   "cell_type": "code",
   "execution_count": 4,
   "id": "df9ecd4e-f641-428a-9f64-729fd919fb1f",
   "metadata": {},
   "outputs": [],
   "source": [
    "con =sqlite3.connect(\"baseline_trim_v5.0.0_1yrs.db\")\n",
    "df.to_sql(\"observations\", con)\n",
    "con.close()"
   ]
  },
  {
   "cell_type": "code",
   "execution_count": null,
   "id": "32d0c165-61fd-4080-9a87-7d98fff87cf4",
   "metadata": {},
   "outputs": [],
   "source": []
  }
 ],
 "metadata": {
  "kernelspec": {
   "display_name": "Python 3 (ipykernel)",
   "language": "python",
   "name": "python3"
  },
  "language_info": {
   "codemirror_mode": {
    "name": "ipython",
    "version": 3
   },
   "file_extension": ".py",
   "mimetype": "text/x-python",
   "name": "python",
   "nbconvert_exporter": "python",
   "pygments_lexer": "ipython3",
   "version": "3.12.10"
  }
 },
 "nbformat": 4,
 "nbformat_minor": 5
}
